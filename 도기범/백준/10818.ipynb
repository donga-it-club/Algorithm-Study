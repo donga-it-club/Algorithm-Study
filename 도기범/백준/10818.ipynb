{
  "nbformat": 4,
  "nbformat_minor": 0,
  "metadata": {
    "colab": {
      "name": "baekjoon_10818.ipynb",
      "provenance": []
    },
    "kernelspec": {
      "name": "python3",
      "display_name": "Python 3"
    },
    "language_info": {
      "name": "python"
    }
  },
  "cells": [
    {
      "cell_type": "code",
      "execution_count": 6,
      "metadata": {
        "colab": {
          "base_uri": "https://localhost:8080/"
        },
        "id": "ret1U4ReCOMg",
        "outputId": "d1f5136b-321c-433b-e7c3-53f918a28e0b"
      },
      "outputs": [
        {
          "output_type": "stream",
          "name": "stdout",
          "text": [
            "5\n",
            "20 10 35 30 7\n",
            "7 35\n"
          ]
        }
      ],
      "source": [
        "num = int(input())\n",
        "ls = input().split()\n",
        "max = -1000000\n",
        "min = 1000000\n",
        "\n",
        "for i in range(num):\n",
        "    if int(ls[i]) > max:\n",
        "        max = int(ls[i])\n",
        "    else:\n",
        "        pass\n",
        "    if int(ls[i]) < min:\n",
        "        min = int(ls[i])\n",
        "    else:\n",
        "        pass\n",
        "print(min, max)"
      ]
    }
  ]
}